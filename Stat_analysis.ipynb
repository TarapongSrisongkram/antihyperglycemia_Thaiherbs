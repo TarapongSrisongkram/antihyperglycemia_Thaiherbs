{
 "cells": [
  {
   "cell_type": "code",
   "execution_count": 3,
   "id": "01c925a4-f899-46a6-9925-df719e4624a5",
   "metadata": {},
   "outputs": [],
   "source": [
    "import numpy as np\n",
    "import pandas as pd\n",
    "import scipy.stats\n",
    "from scipy import stats\n",
    "%matplotlib inline\n",
    "import matplotlib.pyplot as plt\n",
    "import seaborn as sns\n",
    "import networkx as nx"
   ]
  },
  {
   "cell_type": "code",
   "execution_count": 5,
   "id": "7989aeac-6d4c-4896-b490-22a0f2cac4f4",
   "metadata": {},
   "outputs": [],
   "source": [
    "df_Emax = pd.read_csv('Emax_all.csv')"
   ]
  },
  {
   "cell_type": "code",
   "execution_count": 6,
   "id": "5ae9fe84-dea8-4a00-ae73-4c2add299f33",
   "metadata": {},
   "outputs": [
    {
     "data": {
      "text/html": [
       "<div>\n",
       "<style scoped>\n",
       "    .dataframe tbody tr th:only-of-type {\n",
       "        vertical-align: middle;\n",
       "    }\n",
       "\n",
       "    .dataframe tbody tr th {\n",
       "        vertical-align: top;\n",
       "    }\n",
       "\n",
       "    .dataframe thead th {\n",
       "        text-align: right;\n",
       "    }\n",
       "</style>\n",
       "<table border=\"1\" class=\"dataframe\">\n",
       "  <thead>\n",
       "    <tr style=\"text-align: right;\">\n",
       "      <th></th>\n",
       "      <th>Names</th>\n",
       "      <th>Emax_amylase</th>\n",
       "      <th>Emax_glucosidase</th>\n",
       "    </tr>\n",
       "  </thead>\n",
       "  <tbody>\n",
       "    <tr>\n",
       "      <th>0</th>\n",
       "      <td>G_cowa</td>\n",
       "      <td>99.759423</td>\n",
       "      <td>51.121951</td>\n",
       "    </tr>\n",
       "    <tr>\n",
       "      <th>1</th>\n",
       "      <td>G_cowa</td>\n",
       "      <td>99.438653</td>\n",
       "      <td>51.560976</td>\n",
       "    </tr>\n",
       "    <tr>\n",
       "      <th>2</th>\n",
       "      <td>G_cowa</td>\n",
       "      <td>99.518845</td>\n",
       "      <td>50.682927</td>\n",
       "    </tr>\n",
       "    <tr>\n",
       "      <th>3</th>\n",
       "      <td>P_debilis</td>\n",
       "      <td>99.358460</td>\n",
       "      <td>50.024390</td>\n",
       "    </tr>\n",
       "    <tr>\n",
       "      <th>4</th>\n",
       "      <td>P_debilis</td>\n",
       "      <td>99.679230</td>\n",
       "      <td>50.097561</td>\n",
       "    </tr>\n",
       "    <tr>\n",
       "      <th>...</th>\n",
       "      <td>...</td>\n",
       "      <td>...</td>\n",
       "      <td>...</td>\n",
       "    </tr>\n",
       "    <tr>\n",
       "      <th>88</th>\n",
       "      <td>T_triptera</td>\n",
       "      <td>33.440257</td>\n",
       "      <td>32.536585</td>\n",
       "    </tr>\n",
       "    <tr>\n",
       "      <th>89</th>\n",
       "      <td>T_triptera</td>\n",
       "      <td>33.520449</td>\n",
       "      <td>32.463415</td>\n",
       "    </tr>\n",
       "    <tr>\n",
       "      <th>90</th>\n",
       "      <td>C_oblongifolius</td>\n",
       "      <td>12.269447</td>\n",
       "      <td>53.097561</td>\n",
       "    </tr>\n",
       "    <tr>\n",
       "      <th>91</th>\n",
       "      <td>C_oblongifolius</td>\n",
       "      <td>12.510024</td>\n",
       "      <td>52.219512</td>\n",
       "    </tr>\n",
       "    <tr>\n",
       "      <th>92</th>\n",
       "      <td>C_oblongifolius</td>\n",
       "      <td>12.991179</td>\n",
       "      <td>53.682927</td>\n",
       "    </tr>\n",
       "  </tbody>\n",
       "</table>\n",
       "<p>93 rows × 3 columns</p>\n",
       "</div>"
      ],
      "text/plain": [
       "              Names  Emax_amylase  Emax_glucosidase\n",
       "0            G_cowa     99.759423         51.121951\n",
       "1            G_cowa     99.438653         51.560976\n",
       "2            G_cowa     99.518845         50.682927\n",
       "3         P_debilis     99.358460         50.024390\n",
       "4         P_debilis     99.679230         50.097561\n",
       "..              ...           ...               ...\n",
       "88       T_triptera     33.440257         32.536585\n",
       "89       T_triptera     33.520449         32.463415\n",
       "90  C_oblongifolius     12.269447         53.097561\n",
       "91  C_oblongifolius     12.510024         52.219512\n",
       "92  C_oblongifolius     12.991179         53.682927\n",
       "\n",
       "[93 rows x 3 columns]"
      ]
     },
     "execution_count": 6,
     "metadata": {},
     "output_type": "execute_result"
    }
   ],
   "source": [
    "df_Emax "
   ]
  },
  {
   "cell_type": "code",
   "execution_count": 2,
   "id": "59b75c23-ed5a-43a9-a6ff-79d1b404dce0",
   "metadata": {},
   "outputs": [
    {
     "data": {
      "text/plain": [
       "'/Users/tarapongsrisongkram/OneDrive - Khon Kaen University (1)/Amylase inhibitor/Python'"
      ]
     },
     "execution_count": 2,
     "metadata": {},
     "output_type": "execute_result"
    }
   ],
   "source": [
    "pwd"
   ]
  },
  {
   "cell_type": "code",
   "execution_count": null,
   "id": "a19b81d9-1911-4228-9f80-fba5f63612d8",
   "metadata": {},
   "outputs": [],
   "source": []
  }
 ],
 "metadata": {
  "kernelspec": {
   "display_name": "Python 3",
   "language": "python",
   "name": "python3"
  },
  "language_info": {
   "codemirror_mode": {
    "name": "ipython",
    "version": 3
   },
   "file_extension": ".py",
   "mimetype": "text/x-python",
   "name": "python",
   "nbconvert_exporter": "python",
   "pygments_lexer": "ipython3",
   "version": "3.8.8"
  }
 },
 "nbformat": 4,
 "nbformat_minor": 5
}
